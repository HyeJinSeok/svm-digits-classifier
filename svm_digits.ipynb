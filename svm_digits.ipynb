{
  "nbformat": 4,
  "nbformat_minor": 0,
  "metadata": {
    "colab": {
      "provenance": []
    },
    "kernelspec": {
      "name": "python3",
      "display_name": "Python 3"
    },
    "language_info": {
      "name": "python"
    }
  },
  "cells": [
    {
      "cell_type": "code",
      "execution_count": 1,
      "metadata": {
        "colab": {
          "base_uri": "https://localhost:8080/",
          "height": 215
        },
        "id": "w-tWxUA8YI-X",
        "outputId": "4f6d1eb2-b4cd-4814-cfe8-369df6ec0eaf"
      },
      "outputs": [
        {
          "output_type": "display_data",
          "data": {
            "text/plain": [
              "<Figure size 1000x300 with 10 Axes>"
            ],
            "image/png": "[encoded data removed]"
          },
          "metadata": {}
        }
      ],
      "source": [
        "# 데이터 로드 및 시각화\n",
        "from sklearn import datasets\n",
        "import matplotlib.pyplot as plt\n",
        "\n",
        "digits = datasets.load_digits()\n",
        "X, y = digits.data, digits.target\n",
        "\n",
        "# 처음 10개 이미지 확인\n",
        "fig, axes = plt.subplots(1, 10, figsize=(10, 3))\n",
        "for ax, image in zip(axes, digits.images[0:10]):\n",
        "    ax.set_axis_off()\n",
        "    ax.imshow(image, cmap=plt.cm.gray_r)\n",
        "plt.suptitle(\"First 10 Digits\")\n",
        "plt.show()"
      ]
    },
    {
      "cell_type": "code",
      "source": [
        "# 데이터 전처리\n",
        "from sklearn.model_selection import train_test_split\n",
        "from sklearn.preprocessing import StandardScaler\n",
        "\n",
        "scaler = StandardScaler()\n",
        "X_scaled = scaler.fit_transform(X)\n",
        "\n",
        "X_train, X_test, y_train, y_test = train_test_split(\n",
        "    X_scaled, y, test_size=0.2, random_state=42\n",
        ")"
      ],
      "metadata": {
        "id": "AdL5wAUlYcP_"
      },
      "execution_count": 3,
      "outputs": []
    },
    {
      "cell_type": "code",
      "source": [
        "# Linear SVM\n",
        "from sklearn.svm import SVC\n",
        "from sklearn.metrics import accuracy_score, confusion_matrix, classification_report\n",
        "\n",
        "clf_linear = SVC(kernel='linear')\n",
        "clf_linear.fit(X_train, y_train)\n",
        "y_pred = clf_linear.predict(X_test)\n",
        "\n",
        "print(\"Linear SVM Test Accuracy:\", accuracy_score(y_test, y_pred))"
      ],
      "metadata": {
        "colab": {
          "base_uri": "https://localhost:8080/"
        },
        "id": "LJeHdfH-YiO8",
        "outputId": "2f6fde5e-db73-41c3-a9bb-4827bb9fb8cb"
      },
      "execution_count": 4,
      "outputs": [
        {
          "output_type": "stream",
          "name": "stdout",
          "text": [
            "Linear SVM Test Accuracy: 0.975\n"
          ]
        }
      ]
    },
    {
      "cell_type": "code",
      "source": [
        "# RBF SVM\n",
        "clf_rbf = SVC(kernel='rbf')\n",
        "clf_rbf.fit(X_train, y_train)\n",
        "y_pred = clf_rbf.predict(X_test)\n",
        "\n",
        "print(\"RBF SVM Test Accuracy:\", accuracy_score(y_test, y_pred))"
      ],
      "metadata": {
        "colab": {
          "base_uri": "https://localhost:8080/"
        },
        "id": "X2HmzDLXZFFK",
        "outputId": "f149eb34-848c-4090-d67a-748a63ce7529"
      },
      "execution_count": 5,
      "outputs": [
        {
          "output_type": "stream",
          "name": "stdout",
          "text": [
            "RBF SVM Test Accuracy: 0.9805555555555555\n"
          ]
        }
      ]
    },
    {
      "cell_type": "code",
      "source": [
        "# GridSearchCV로 RBF 최적화\n",
        "from sklearn.model_selection import GridSearchCV\n",
        "\n",
        "param_grid = {'C': [0.1, 1, 10], 'gamma': [0.001, 0.01, 0.1]}\n",
        "grid_search = GridSearchCV(SVC(kernel='rbf'), param_grid, cv=5)\n",
        "grid_search.fit(X_train, y_train)\n",
        "\n",
        "print(\"Best Params (RBF):\", grid_search.best_params_)\n",
        "best_rbf = grid_search.best_estimator_\n",
        "\n",
        "y_pred = best_rbf.predict(X_test)\n",
        "print(\"Optimized RBF Test Accuracy:\", accuracy_score(y_test, y_pred))"
      ],
      "metadata": {
        "colab": {
          "base_uri": "https://localhost:8080/"
        },
        "id": "2WX1eTeoZeNs",
        "outputId": "18af5329-a237-41ae-8146-3bc29fc3eaa2"
      },
      "execution_count": 6,
      "outputs": [
        {
          "output_type": "stream",
          "name": "stdout",
          "text": [
            "Best Params (RBF): {'C': 10, 'gamma': 0.01}\n",
            "Optimized RBF Test Accuracy: 0.9805555555555555\n"
          ]
        }
      ]
    },
    {
      "cell_type": "code",
      "source": [
        "# Sigmoid SVM\n",
        "clf_sig = SVC(kernel='sigmoid')\n",
        "clf_sig.fit(X_train, y_train)\n",
        "y_pred = clf_sig.predict(X_test)\n",
        "\n",
        "print(\"Sigmoid SVM Test Accuracy:\", accuracy_score(y_test, y_pred))\n"
      ],
      "metadata": {
        "colab": {
          "base_uri": "https://localhost:8080/"
        },
        "id": "dIY4lDYcZrtu",
        "outputId": "23e97ec3-167a-433e-95dc-a8d90f084130"
      },
      "execution_count": 7,
      "outputs": [
        {
          "output_type": "stream",
          "name": "stdout",
          "text": [
            "Sigmoid SVM Test Accuracy: 0.9305555555555556\n"
          ]
        }
      ]
    },
    {
      "cell_type": "code",
      "source": [
        "# GridSearchCV로 Sigmoid SVM 최적화\n",
        "param_grid = {'C': [0.1, 1, 10], 'gamma': [0.001, 0.01, 0.1]}\n",
        "grid_search = GridSearchCV(SVC(kernel='sigmoid'), param_grid, cv=5)\n",
        "grid_search.fit(X_train, y_train)\n",
        "\n",
        "print(\"Best Params (Sigmoid):\", grid_search.best_params_)\n",
        "best_sig = grid_search.best_estimator_\n",
        "\n",
        "y_pred = best_sig.predict(X_test)\n",
        "print(\"Optimized Sigmoid Test Accuracy:\", accuracy_score(y_test, y_pred))\n"
      ],
      "metadata": {
        "colab": {
          "base_uri": "https://localhost:8080/"
        },
        "id": "uawSq4qGZ__s",
        "outputId": "0a555481-668d-4416-cd3b-51d45b88bee4"
      },
      "execution_count": 8,
      "outputs": [
        {
          "output_type": "stream",
          "name": "stdout",
          "text": [
            "Best Params (Sigmoid): {'C': 10, 'gamma': 0.001}\n",
            "Optimized Sigmoid Test Accuracy: 0.9777777777777777\n"
          ]
        }
      ]
    },
    {
      "cell_type": "code",
      "source": [
        "# Soft Voting 앙상블 (RBF + GradientBoosting)\n",
        "from sklearn.ensemble import GradientBoostingClassifier, VotingClassifier\n",
        "\n",
        "clf_rbf_best = SVC(kernel='rbf', C=1, gamma=0.01, probability=True)\n",
        "clf_rbf_best.fit(X_train, y_train)\n",
        "\n",
        "gb_clf = GradientBoostingClassifier()\n",
        "\n",
        "voting_clf = VotingClassifier(\n",
        "    estimators=[('svm', clf_rbf_best), ('gb', gb_clf)],\n",
        "    voting='soft'\n",
        ")\n",
        "voting_clf.fit(X_train, y_train)\n",
        "\n",
        "y_pred = voting_clf.predict(X_test)\n",
        "print(\"Soft Voting (RBF+GB) Test Accuracy:\", accuracy_score(y_test, y_pred))"
      ],
      "metadata": {
        "colab": {
          "base_uri": "https://localhost:8080/"
        },
        "id": "yd3vTKmqaFdC",
        "outputId": "14152864-a5fc-497a-83be-77c5c92cc9f4"
      },
      "execution_count": 9,
      "outputs": [
        {
          "output_type": "stream",
          "name": "stdout",
          "text": [
            "Soft Voting (RBF+GB) Test Accuracy: 0.9833333333333333\n"
          ]
        }
      ]
    },
    {
      "cell_type": "code",
      "source": [
        "# PCA 적용 후 RBF\n",
        "from sklearn.decomposition import PCA\n",
        "\n",
        "pca = PCA(n_components=30)\n",
        "X_pca = pca.fit_transform(X_scaled)\n",
        "\n",
        "X_train_pca, X_test_pca, y_train, y_test = train_test_split(\n",
        "    X_pca, y, test_size=0.2, random_state=42\n",
        ")\n",
        "\n",
        "clf_rbf_pca = SVC(kernel='rbf', C=1, gamma=0.01)\n",
        "clf_rbf_pca.fit(X_train_pca, y_train)\n",
        "\n",
        "y_pred = clf_rbf_pca.predict(X_test_pca)\n",
        "print(\"RBF + PCA(30차원) Test Accuracy:\", accuracy_score(y_test, y_pred))"
      ],
      "metadata": {
        "colab": {
          "base_uri": "https://localhost:8080/"
        },
        "id": "BG39gXfQaTbL",
        "outputId": "06c02b9a-81de-4c21-e241-173463c513fe"
      },
      "execution_count": 10,
      "outputs": [
        {
          "output_type": "stream",
          "name": "stdout",
          "text": [
            "RBF + PCA(30차원) Test Accuracy: 0.9777777777777777\n"
          ]
        }
      ]
    }
  ]
}